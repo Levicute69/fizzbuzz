{
  "nbformat": 4,
  "nbformat_minor": 0,
  "metadata": {
    "colab": {
      "name": "Untitled4.ipynb",
      "provenance": [],
      "authorship_tag": "ABX9TyNmS9YjkuWkdNG1wHhYVC6N",
      "include_colab_link": true
    },
    "kernelspec": {
      "name": "python3",
      "display_name": "Python 3"
    },
    "language_info": {
      "name": "python"
    }
  },
  "cells": [
    {
      "cell_type": "markdown",
      "metadata": {
        "id": "view-in-github",
        "colab_type": "text"
      },
      "source": [
        "<a href=\"https://colab.research.google.com/github/Levicute69/fizzbuzz/blob/circleci-project-setup/Untitled4.ipynb\" target=\"_parent\"><img src=\"https://colab.research.google.com/assets/colab-badge.svg\" alt=\"Open In Colab\"/></a>"
      ]
    },
    {
      "cell_type": "code",
      "execution_count": null,
      "metadata": {
        "colab": {
          "base_uri": "https://localhost:8080/"
        },
        "id": "3q2m_eiQ7gkH",
        "outputId": "26868848-8092-4311-bf5e-f7cf966f7ea6"
      },
      "outputs": [
        {
          "output_type": "stream",
          "name": "stdout",
          "text": [
            "1\n",
            "2\n",
            "3\n",
            "4\n",
            "5\n",
            "6\n",
            "7\n",
            "8\n",
            "9\n",
            "10\n",
            "11\n",
            "12\n",
            "13\n",
            "14\n",
            "15\n",
            "16\n",
            "17\n",
            "18\n",
            "19\n",
            "20\n"
          ]
        }
      ],
      "source": [
        "for num in range (1,21):\n",
        "  print (num)"
      ]
    },
    {
      "cell_type": "code",
      "source": [
        "for num in range (1,21):\n",
        "  if num % 3 is 0:\n",
        "     print(\"Fizz\")\n",
        "     print(num)"
      ],
      "metadata": {
        "colab": {
          "base_uri": "https://localhost:8080/"
        },
        "id": "s-jOhB0-8Hg_",
        "outputId": "df9cc01b-2d82-47e4-9456-f22f61fdf9c5"
      },
      "execution_count": null,
      "outputs": [
        {
          "output_type": "stream",
          "name": "stdout",
          "text": [
            "Fizz\n",
            "3\n",
            "Fizz\n",
            "6\n",
            "Fizz\n",
            "9\n",
            "Fizz\n",
            "12\n",
            "Fizz\n",
            "15\n",
            "Fizz\n",
            "18\n"
          ]
        }
      ]
    },
    {
      "cell_type": "code",
      "source": [
        "for num in range (1,21):\n",
        "  if num % 5 is 0:\n",
        "      print(\"Buzz\")\n",
        "  else:\n",
        "      print(num)"
      ],
      "metadata": {
        "colab": {
          "base_uri": "https://localhost:8080/"
        },
        "id": "rMPIeYdV8K3t",
        "outputId": "ed627d01-268a-4b94-b3b0-663a2099f8d1"
      },
      "execution_count": null,
      "outputs": [
        {
          "output_type": "stream",
          "name": "stdout",
          "text": [
            "1\n",
            "2\n",
            "3\n",
            "4\n",
            "Buzz\n",
            "6\n",
            "7\n",
            "8\n",
            "9\n",
            "Buzz\n",
            "11\n",
            "12\n",
            "13\n",
            "14\n",
            "Buzz\n",
            "16\n",
            "17\n",
            "18\n",
            "19\n",
            "Buzz\n"
          ]
        }
      ]
    },
    {
      "cell_type": "code",
      "source": [
        "for num in range (1,21):\n",
        "    if num % 3 is 0:\n",
        "        print(\"Fizz\")\n",
        "    elif num % 5 is 0:\n",
        "        print(\"Buzz\")\n",
        "    elif num % 15 is 0:\n",
        "        print(\"FizzBuzz\")\n",
        "    else:\n",
        "       print(num)"
      ],
      "metadata": {
        "colab": {
          "base_uri": "https://localhost:8080/"
        },
        "id": "MEe8rz4s8OSH",
        "outputId": "d71b689e-7cc8-4572-cd7d-0f8be768d844"
      },
      "execution_count": null,
      "outputs": [
        {
          "output_type": "stream",
          "name": "stdout",
          "text": [
            "1\n",
            "2\n",
            "Fizz\n",
            "4\n",
            "Buzz\n",
            "Fizz\n",
            "7\n",
            "8\n",
            "Fizz\n",
            "Buzz\n",
            "11\n",
            "Fizz\n",
            "13\n",
            "14\n",
            "Fizz\n",
            "16\n",
            "17\n",
            "Fizz\n",
            "19\n",
            "Buzz\n"
          ]
        }
      ]
    }
  ]
}